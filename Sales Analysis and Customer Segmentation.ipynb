{
 "cells": [
  {
   "cell_type": "markdown",
   "metadata": {},
   "source": [
    "## **TechHub end-to-end data analytics project**\n",
    "### **II. Sales Analysis and Customer Segmentation**\n",
    "\n",
    "In this part, we will use SQL code to discover meaningful insights about the sales performance of the company and segment customer using the RFM method. These queries can be executed directly in database tools (such as Dbeaver, MySQL workbench). However, in this project I will execute SQL code in this Jupyter notebook to present the results directly all in one single file (and maybe also some visualization?)"
   ]
  },
  {
   "cell_type": "code",
   "execution_count": 1,
   "metadata": {},
   "outputs": [
    {
     "name": "stdout",
     "output_type": "stream",
     "text": [
      "✅ Successfully connected to MySQL database in WampServer!\n"
     ]
    }
   ],
   "source": [
    "import pandas as pd\n",
    "from sqlalchemy import create_engine, text\n",
    "\n",
    "# MySQL connection details for WampServer\n",
    "DATABASE_USERNAME = \"root\"\n",
    "DATABASE_PASSWORD = \"\"  # Leave empty if no password\n",
    "DATABASE_HOST = \"localhost\"\n",
    "DATABASE_NAME = \"techhub\"  # Your database name\n",
    "\n",
    "# Create SQLAlchemy engine for MySQL\n",
    "engine = create_engine(f\"mysql+pymysql://{DATABASE_USERNAME}:{DATABASE_PASSWORD}@{DATABASE_HOST}/{DATABASE_NAME}\")\n",
    "\n",
    "# Test connection\n",
    "with engine.connect() as connection:\n",
    "    print(\"✅ Successfully connected to MySQL database in WampServer!\")"
   ]
  },
  {
   "cell_type": "markdown",
   "metadata": {},
   "source": [
    "#### **1. Sales analysis**\n"
   ]
  },
  {
   "cell_type": "code",
   "execution_count": null,
   "metadata": {},
   "outputs": [],
   "source": [
    "query = \"\"\"\n",
    "SELECT d.month, ROUND(SUM(o.total_amount), 2) AS total_sales\n",
    "FROM orders o\n",
    "JOIN date d ON o.date_id = d.date_id\n",
    "GROUP BY d.month\n",
    "ORDER BY d.month;\n",
    "\"\"\"\n",
    "\n",
    "# Execute query and store result in a DataFrame\n",
    "df_sales = pd.read_sql(query, con=engine)\n",
    "\n",
    "# Display result\n",
    "df_sales"
   ]
  }
 ],
 "metadata": {
  "kernelspec": {
   "display_name": "Python 3",
   "language": "python",
   "name": "python3"
  },
  "language_info": {
   "codemirror_mode": {
    "name": "ipython",
    "version": 3
   },
   "file_extension": ".py",
   "mimetype": "text/x-python",
   "name": "python",
   "nbconvert_exporter": "python",
   "pygments_lexer": "ipython3",
   "version": "3.12.1"
  }
 },
 "nbformat": 4,
 "nbformat_minor": 2
}
